{
 "cells": [
  {
   "cell_type": "code",
   "execution_count": 1,
   "metadata": {},
   "outputs": [],
   "source": [
    "import matplotlib.pyplot as plt\n",
    "from sklearn.metrics import mean_squared_error as mse\n",
    "import math\n",
    "import numpy as np\n",
    "import random \n",
    "import cmath\n",
    "from numpy import *\n",
    "import time\n",
    "from numpy.linalg import inv"
   ]
  },
  {
   "cell_type": "code",
   "execution_count": 2,
   "metadata": {},
   "outputs": [],
   "source": [
    "#Transform Functions\n",
    "def DCT_matrix(x):\n",
    "    N = len(x)\n",
    "    C_matrix = np.ndarray(shape=(N,N), dtype=np.complex128)\n",
    "    for i in range(N):\n",
    "        for j in range(N):\n",
    "            C_matrix[i][j] = (2*math.cos(i*math.pi*(2*j+1)/(2*N)))\n",
    "    x = np.matrix(x)\n",
    "    DCT_x = C_matrix.dot(x.T).tolist()\n",
    "    DCT_x = [y for x in DCT_x for y in x]\n",
    "    return DCT_x\n",
    "def IDCT_matrix(X):\n",
    "    N = len(X)\n",
    "    C_matrix = np.ndarray(shape=(N,N), dtype=np.complex128)\n",
    "    for i in range(N):\n",
    "        for j in range(N):\n",
    "            C_matrix[i][j] = (2*math.cos(i*math.pi*(2*j+1)/(2*N)))\n",
    "    X = np.matrix(X)\n",
    "    IC_matrix = inv(C_matrix)\n",
    "    ICFT_X = IC_matrix.dot(X.T).tolist()\n",
    "    ICFT_X = [y for x in ICFT_X for y in x]\n",
    "    return ICFT_X\n",
    "def DFT_matrix(x):\n",
    "    N = len(x)\n",
    "    W = complex(math.cos(2*math.pi/N), -math.sin(2*math.pi/N))\n",
    "    W_matrix = np.ndarray(shape=(N,N), dtype=np.complex128)\n",
    "    for i in range(N):\n",
    "        for j in range(N):\n",
    "            W_matrix[i][j] = (W**(i*j))\n",
    "    x = np.matrix(x)\n",
    "    DFT_x = W_matrix.dot(x.T).tolist()\n",
    "    DFT_x = [y for x in DFT_x for y in x]\n",
    "    return DFT_x\n",
    "def IDFT_matrix(X):\n",
    "    N = len(X)\n",
    "    W = complex(math.cos(2*math.pi/N), -math.sin(2*math.pi/N))\n",
    "    W_matrix = np.ndarray(shape=(N,N), dtype=np.complex128)\n",
    "    for i in range(N):\n",
    "        for j in range(N):\n",
    "            W_matrix[i][j] = (W**(i*j))\n",
    "    X = np.matrix(X)\n",
    "    IW_matrix = inv(W_matrix)\n",
    "    IDFT_X = IW_matrix.dot(X.T).tolist()\n",
    "    IDFT_X = [y for x in IDFT_X for y in x]\n",
    "    return IDFT_X\n",
    "def haarMatrix(n):\n",
    "    Level1 = math.log(n, 2)\n",
    "    Level = int(Level1)+1\n",
    "\n",
    "    #Initialization\n",
    "    H = [1]\n",
    "    NC = 1 / math.sqrt(2)    #normalization constant\n",
    "    LP = [1, 1]\n",
    "    HP = [1,-1]\n",
    "\n",
    "    for i in range(1,Level):\n",
    "        H = np.dot(NC, np.concatenate([np.matrix(np.kron(H, LP)), np.matrix(np.kron(np.eye(len(H)), HP))]))\n",
    "    return H\n",
    "def Harr_matrix(x):\n",
    "    N = len(x)\n",
    "    H_matrix = haarMatrix(64)\n",
    "    x = np.matrix(x)\n",
    "    Harr_x = H_matrix.dot(x.T).tolist()\n",
    "    Harr_x = [y for x in Harr_x for y in x]\n",
    "    return Harr_x \n",
    "def InversHarr_matrix(X):\n",
    "    N = len(X)\n",
    "    H_matrix = haarMatrix(64)\n",
    "    X = np.matrix(X)\n",
    "    IH_matrix = inv(H_matrix)\n",
    "    IHarr_X = IH_matrix.dot(X.T).tolist()\n",
    "    IHarr_X = [y for x in IHarr_X for y in x]\n",
    "    return IHarr_X"
   ]
  },
  {
   "cell_type": "code",
   "execution_count": 3,
   "metadata": {},
   "outputs": [],
   "source": [
    "#Modified X \n",
    "def X_m_DFT(X, L):\n",
    "    N = len(X)\n",
    "    Z = [0]*N\n",
    "    for i in range(int(((N-L-1)/2))+ 1):\n",
    "        Z[i] = X[i]\n",
    "    for j in range(int((N+L+1)/2),N):\n",
    "        Z[j] = X[j]\n",
    "    return Z\n",
    "def X_m_Harr(X, L):\n",
    "    N = len(X)\n",
    "    Z = [0]*N\n",
    "    for k in range(N-L):\n",
    "        Z[k] = X[k] \n",
    "    return Z\n",
    "def X_m_DCT(X, L):\n",
    "    N = len(X)\n",
    "    Z = [0]*N\n",
    "    for i in range(N-L):\n",
    "        Z[i] = Z[i] + X[i] \n",
    "    return Z"
   ]
  },
  {
   "cell_type": "code",
   "execution_count": 4,
   "metadata": {},
   "outputs": [],
   "source": [
    "#Energy\n",
    "def Energy(x, x_m):\n",
    "    N = len(x)\n",
    "    E = 0\n",
    "    for i in range(N):\n",
    "        E = E + ((x[i] - x_m[i])**2)\n",
    "    return (E/N)\n",
    "def Energy_DFT(x, x_m):\n",
    "    N = len(x)\n",
    "    E = 0\n",
    "    for i in range(N):\n",
    "        Com = x[i] - x_m[i]\n",
    "        E = E + ((Com.real)**2)+((Com.imag)**2)\n",
    "    return (E/N)\n",
    "def Energy_all(x):\n",
    "    DFT_Enegy = []\n",
    "    DCT_Enegy = []\n",
    "    Harr_Enegy = []\n",
    "    len_ = len(x)\n",
    "    x_ = []\n",
    "    for i in range(len_):\n",
    "        x_.append(complex(x[i]))\n",
    "    DFT_X = DFT_matrix(x_)\n",
    "    DCT_X = DCT_matrix(x)\n",
    "    Harr_X = Harr_matrix(x)\n",
    "    for i in range(0, len_):\n",
    "        DFT_Enegy.append(Energy_DFT(x, IDFT_matrix(X_m_DFT(DFT_X, i))))\n",
    "        DCT_Enegy.append(Energy(x, IDCT_matrix(X_m_DCT(DCT_X, i))))\n",
    "        Harr_Enegy.append(Energy(x, InversHarr_matrix(X_m_Harr(Harr_X, i))))\n",
    "    return DFT_Enegy, DCT_Enegy, Harr_Enegy"
   ]
  },
  {
   "cell_type": "code",
   "execution_count": 5,
   "metadata": {},
   "outputs": [
    {
     "name": "stderr",
     "output_type": "stream",
     "text": [
      "C:\\Users\\dileepshukla901\\Anaconda3\\lib\\site-packages\\numpy\\core\\numeric.py:492: ComplexWarning: Casting complex values to real discards the imaginary part\n",
      "  return array(a, dtype, copy=False, order=order)\n"
     ]
    },
    {
     "data": {
      "image/png": "[encoded data removed]",
      "text/plain": [
       "<Figure size 432x288 with 1 Axes>"
      ]
     },
     "metadata": {},
     "output_type": "display_data"
    }
   ],
   "source": [
    "x = []\n",
    "N = []\n",
    "n = 64\n",
    "for i in range(n):\n",
    "    x.append(random.uniform(0, 100))\n",
    "for i in range(n):\n",
    "    N.append(i)\n",
    "DFT_Enegy, DCT_Enegy, Harr_Enegy = Energy_all(x)\n",
    "plt.plot(N, DFT_Enegy, 'b--')\n",
    "plt.plot(N, DCT_Enegy, 'g')\n",
    "plt.plot(N, Harr_Enegy, 'r')\n",
    "plt.show()"
   ]
  }
 ],
 "metadata": {
  "kernelspec": {
   "display_name": "Python 3",
   "language": "python",
   "name": "python3"
  },
  "language_info": {
   "codemirror_mode": {
    "name": "ipython",
    "version": 3
   },
   "file_extension": ".py",
   "mimetype": "text/x-python",
   "name": "python",
   "nbconvert_exporter": "python",
   "pygments_lexer": "ipython3",
   "version": "3.6.5"
  }
 },
 "nbformat": 4,
 "nbformat_minor": 2
}
